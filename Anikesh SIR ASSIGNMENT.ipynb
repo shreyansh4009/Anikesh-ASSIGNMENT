{
 "cells": [
  {
   "cell_type": "code",
   "execution_count": null,
   "id": "aefbfa11",
   "metadata": {},
   "outputs": [],
   "source": [
    "Q-1:"
   ]
  },
  {
   "cell_type": "code",
   "execution_count": 1,
   "id": "0e2b5385",
   "metadata": {},
   "outputs": [
    {
     "name": "stdout",
     "output_type": "stream",
     "text": [
      "35\n"
     ]
    }
   ],
   "source": [
    " class Point:\n",
    "    def __init__(self,x,y,z): #varibles assigning\n",
    "        self.x,self.y,self.z = x,y,z\n",
    "    def sqSum(self): \n",
    "        return Point.square_value(self.x)+Point.square_value(self.y)+Point.square_value(self.z)\n",
    "    def square_value(val): #square the values\n",
    "        return val ** 2\n",
    "\n",
    "obj = Point(1,3,5)\n",
    "print(obj.sqSum())"
   ]
  },
  {
   "cell_type": "code",
   "execution_count": null,
   "id": "a6c6280e",
   "metadata": {},
   "outputs": [],
   "source": [
    "Q-2:"
   ]
  },
  {
   "cell_type": "code",
   "execution_count": 2,
   "id": "f888cf5e",
   "metadata": {},
   "outputs": [
    {
     "name": "stdout",
     "output_type": "stream",
     "text": [
      "210\n",
      "70.0\n"
     ]
    }
   ],
   "source": [
    "class Student:\n",
    "    def __init__(self,name,phy,chm,bio):\n",
    "        self.name,self.phy,self.chm,self.bio = name,phy,chm,bio\n",
    "        \n",
    "    def Total(self):\n",
    "        return self.phy+self.chm+self.bio\n",
    "    \n",
    "    def percentage(self):\n",
    "        return (Student.Total(self) / 300) * 100\n",
    "    \n",
    "std = Student(\"Arun Sai\",80,90,40)\n",
    "\n",
    "print(std.Total())\n",
    "print(std.percentage())"
   ]
  },
  {
   "cell_type": "code",
   "execution_count": null,
   "id": "1ad7ada4",
   "metadata": {},
   "outputs": [],
   "source": [
    "Q-3:"
   ]
  },
  {
   "cell_type": "code",
   "execution_count": 3,
   "id": "48310f1b",
   "metadata": {},
   "outputs": [
    {
     "name": "stdout",
     "output_type": "stream",
     "text": [
      "104\n",
      "84\n",
      "940\n",
      "9.4\n"
     ]
    }
   ],
   "source": [
    "class Calculator:\n",
    "    def __init__(self,num1,num2):\n",
    "        self.num1,self.num2 = num1,num2\n",
    "        \n",
    "    def add(self):\n",
    "        return self.num1+self.num2\n",
    "    def subtract(self):\n",
    "        return self.num1-self.num2\n",
    "    def multiply(self):\n",
    "        return self.num1*self.num2\n",
    "    def divide(self):\n",
    "        return self.num1/self.num2\n",
    "    \n",
    "cal = Calculator(94,10)\n",
    "print(cal.add())\n",
    "print(cal.subtract())\n",
    "print(cal.multiply())\n",
    "print(cal.divide())"
   ]
  },
  {
   "cell_type": "code",
   "execution_count": null,
   "id": "51a0f972",
   "metadata": {},
   "outputs": [],
   "source": []
  },
  {
   "cell_type": "code",
   "execution_count": null,
   "id": "622dbab0",
   "metadata": {},
   "outputs": [],
   "source": []
  },
  {
   "cell_type": "code",
   "execution_count": null,
   "id": "a632d6e9",
   "metadata": {},
   "outputs": [],
   "source": []
  }
 ],
 "metadata": {
  "kernelspec": {
   "display_name": "Python 3 (ipykernel)",
   "language": "python",
   "name": "python3"
  },
  "language_info": {
   "codemirror_mode": {
    "name": "ipython",
    "version": 3
   },
   "file_extension": ".py",
   "mimetype": "text/x-python",
   "name": "python",
   "nbconvert_exporter": "python",
   "pygments_lexer": "ipython3",
   "version": "3.10.2"
  }
 },
 "nbformat": 4,
 "nbformat_minor": 5
}
